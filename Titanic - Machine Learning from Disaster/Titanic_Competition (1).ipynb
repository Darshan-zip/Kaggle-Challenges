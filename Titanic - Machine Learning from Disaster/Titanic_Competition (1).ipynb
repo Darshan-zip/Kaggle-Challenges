{
  "nbformat": 4,
  "nbformat_minor": 0,
  "metadata": {
    "colab": {
      "provenance": []
    },
    "kernelspec": {
      "name": "python3",
      "display_name": "Python 3"
    },
    "language_info": {
      "name": "python"
    }
  },
  "cells": [
    {
      "cell_type": "code",
      "execution_count": null,
      "metadata": {
        "id": "0129C4CKv4yk"
      },
      "outputs": [],
      "source": [
        "#importing Libraries\n",
        "import numpy as np\n",
        "import pandas as pd\n",
        "from sklearn.datasets import load_iris\n",
        "from sklearn.model_selection import train_test_split\n",
        "from sklearn.ensemble import RandomForestClassifier\n",
        "from sklearn.neighbors import KNeighborsClassifier\n",
        "from sklearn.metrics import accuracy_score, classification_report, confusion_matrix,roc_auc_score"
      ]
    },
    {
      "cell_type": "code",
      "source": [
        "#reading Data\n",
        "data=pd.read_csv('train.csv')\n",
        "data.drop(\"PassengerId\",axis=1,inplace=True)\n",
        "data.drop(\"Name\",axis=1,inplace=True)\n",
        "data.drop(\"Ticket\",axis=1,inplace=True)\n",
        "data.drop(\"Cabin\",axis=1,inplace=True)\n",
        "y_train=data[\"Survived\"]\n",
        "data.drop(\"Survived\",axis=1,inplace=True)\n"
      ],
      "metadata": {
        "id": "ftg1h6bQwL5L"
      },
      "execution_count": null,
      "outputs": []
    },
    {
      "cell_type": "code",
      "source": [
        "#Preprocessing Train data\n",
        "from sklearn import preprocessing\n",
        "label_encoder = preprocessing.LabelEncoder()\n",
        "data['Sex']= label_encoder.fit_transform(data['Sex'])\n",
        "data['Embarked']= label_encoder.fit_transform(data['Embarked'])\n",
        "\n",
        "data.fillna(value={'Pclass': data['Pclass'].mean(),\n",
        "                'Age': data['Age'].mean(),\n",
        "                'SibSp': data['SibSp'].mean(),\n",
        "                'Fare': data['Fare'].mean(),\n",
        "                'Sex': data['Sex'].mode()[0],\n",
        "                'Embarked': data['Embarked'].mode()[0]}, inplace=True)\n",
        "X_train=data\n",
        "print(X_train.shape)\n",
        "print(y_train.shape)"
      ],
      "metadata": {
        "colab": {
          "base_uri": "https://localhost:8080/"
        },
        "id": "F6duxoSmzvpn",
        "outputId": "41950102-3e6b-4f55-db0b-0e15824c9097"
      },
      "execution_count": null,
      "outputs": [
        {
          "output_type": "stream",
          "name": "stdout",
          "text": [
            "(891, 7)\n",
            "(891,)\n"
          ]
        }
      ]
    },
    {
      "cell_type": "code",
      "source": [
        "#Preprocessing Test data\n",
        "test_data=pd.read_csv('test.csv')\n",
        "print(test_data.shape)\n",
        "test_copy=test_data.copy()\n",
        "test_data.drop(\"PassengerId\",axis=1,inplace=True)\n",
        "test_data.drop(\"Name\",axis=1,inplace=True)\n",
        "test_data.drop(\"Ticket\",axis=1,inplace=True)\n",
        "test_data.drop(\"Cabin\",axis=1,inplace=True)\n",
        "\n",
        "test_data['Sex']= label_encoder.fit_transform(test_data['Sex'])\n",
        "test_data['Embarked']= label_encoder.fit_transform(test_data['Embarked'])\n",
        "\n",
        "test_data.fillna(value={'Pclass': test_data['Pclass'].mean(),\n",
        "                'Age': test_data['Age'].mean(),\n",
        "                'SibSp': test_data['SibSp'].mean(),\n",
        "                'Fare': test_data['Fare'].mean(),\n",
        "                'Sex': test_data['Sex'].mode()[0],\n",
        "                'Embarked': test_data['Embarked'].mode()[0]}, inplace=True)\n",
        "X_test=test_data\n",
        "test_data.shape"
      ],
      "metadata": {
        "colab": {
          "base_uri": "https://localhost:8080/"
        },
        "id": "G-OyN4lG274B",
        "outputId": "7a639b93-ccb0-47e5-fce1-57f678697fdf"
      },
      "execution_count": null,
      "outputs": [
        {
          "output_type": "stream",
          "name": "stdout",
          "text": [
            "(418, 11)\n"
          ]
        },
        {
          "output_type": "execute_result",
          "data": {
            "text/plain": [
              "(418, 7)"
            ]
          },
          "metadata": {},
          "execution_count": 65
        }
      ]
    },
    {
      "cell_type": "code",
      "source": [
        "#Fitting and Testing the Model\n",
        "model = RandomForestClassifier(random_state=42)\n",
        "model.fit(X_train, y_train)\n",
        "\n",
        "y_pred = model.predict(X_test)\n",
        "y_prob = model.predict_proba(X_test)[:, 1]"
      ],
      "metadata": {
        "id": "0z3m-1AywPcM"
      },
      "execution_count": null,
      "outputs": []
    },
    {
      "cell_type": "code",
      "source": [
        "y_test=pd.read_csv('gender_submission.csv')\n",
        "y_test.drop(\"PassengerId\",axis=1,inplace=True)\n",
        "y_test.dropna(inplace=True)\n",
        "y_test=y_test[\"Survived\"]\n",
        "y_test.shape"
      ],
      "metadata": {
        "colab": {
          "base_uri": "https://localhost:8080/"
        },
        "id": "3kJkTygC3v3r",
        "outputId": "52e09a8d-a1a9-42ea-b215-706b7319e884"
      },
      "execution_count": null,
      "outputs": [
        {
          "output_type": "execute_result",
          "data": {
            "text/plain": [
              "(418,)"
            ]
          },
          "metadata": {},
          "execution_count": 61
        }
      ]
    },
    {
      "cell_type": "code",
      "source": [
        "# Evaluating the model\n",
        "accuracy = accuracy_score(y_test, y_pred)\n",
        "print(f\"Accuracy: {accuracy:.2f}\")\n",
        "\n",
        "# Classification Report\n",
        "print(\"\\nClassification Report:\",classification_report(y_test, y_pred))\n",
        "#print(classification_report(y_test, y_pred, target_names=iris.target_names))\n",
        "roc_auc = roc_auc_score(y_test, y_prob)\n",
        "print(f\"ROC-AUC: {roc_auc:.2f}\")\n",
        "\n",
        "# Confusion Matrix\n",
        "print(\"\\nConfusion Matrix:\")\n",
        "print(confusion_matrix(y_test, y_pred))"
      ],
      "metadata": {
        "colab": {
          "base_uri": "https://localhost:8080/"
        },
        "id": "1rrsL0ZYwRyg",
        "outputId": "5d2e542e-c725-4f6b-beda-d019f4cc0f91"
      },
      "execution_count": null,
      "outputs": [
        {
          "output_type": "stream",
          "name": "stdout",
          "text": [
            "Accuracy: 0.80\n",
            "\n",
            "Classification Report:               precision    recall  f1-score   support\n",
            "\n",
            "           0       0.83      0.86      0.85       266\n",
            "           1       0.75      0.70      0.72       152\n",
            "\n",
            "    accuracy                           0.80       418\n",
            "   macro avg       0.79      0.78      0.78       418\n",
            "weighted avg       0.80      0.80      0.80       418\n",
            "\n",
            "ROC-AUC: 0.89\n",
            "\n",
            "Confusion Matrix:\n",
            "[[230  36]\n",
            " [ 46 106]]\n"
          ]
        }
      ]
    },
    {
      "cell_type": "code",
      "source": [
        "submission = pd.DataFrame({\n",
        "    'PassengerId': test_copy['PassengerId'],\n",
        "    'Survived': y_pred\n",
        "})\n",
        "submission.to_csv('submission.csv', index=False)\n",
        "print(\"Submission file saved as 'submission.csv'.\")"
      ],
      "metadata": {
        "colab": {
          "base_uri": "https://localhost:8080/"
        },
        "id": "-uvlgBfC-ztF",
        "outputId": "191a1253-6616-445a-b3e8-5f1871e7b800"
      },
      "execution_count": null,
      "outputs": [
        {
          "output_type": "stream",
          "name": "stdout",
          "text": [
            "Submission file saved as 'submission.csv'.\n"
          ]
        }
      ]
    }
  ]
}